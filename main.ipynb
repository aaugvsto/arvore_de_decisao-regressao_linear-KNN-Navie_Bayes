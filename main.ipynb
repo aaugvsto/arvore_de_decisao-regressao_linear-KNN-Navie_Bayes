{
 "cells": [
  {
   "cell_type": "code",
   "execution_count": null,
   "metadata": {},
   "outputs": [],
   "source": [
    "# Dependências\n",
    " \n",
    "from sklearn import tree \n",
    "import pandas as pd\n",
    "import numpy as np\n",
    "import sklearn.metrics as metrics\n",
    "from sklearn.linear_model import LinearRegression\n",
    "from sklearn.model_selection import train_test_split\n",
    "from sklearn import preprocessing \n"
   ]
  },
  {
   "cell_type": "code",
   "execution_count": null,
   "metadata": {},
   "outputs": [],
   "source": [
    "# Árvore de Decisão\n",
    "\n",
    "deaths = 'data/titles.csv'\n",
    "\n",
    "df = pd.read_csv(deaths)\n",
    "le = preprocessing.LabelEncoder()\n",
    "target = df['tmdb_popularity'].fillna(0)\n",
    "data = df['genres'].fillna(0)\n",
    "dataTransformed = le.fit_transform(df['genres'].fillna(0))\n",
    "\n",
    "X_train, X_test, y_train, y_test = train_test_split(data, target, 0.4)\n",
    "\n",
    "X_trainn = np.array(X_train).reshape(-1,1)\n",
    "X_testt = np.array(X_test).reshape(-1,1)\n",
    "\n",
    "clf = tree.DecisionTreeClassifier(criterion='entropy', max_depth=3) \n",
    "clf = clf.fit(np.array(le.fit_transform(X_trainn)).reshape(-1,1), le.fit_transform(y_train)) \n",
    "\n",
    "predictions = clf.predict(np.array(le.fit_transform(X_testt)).reshape(-1,1))\n",
    "\n",
    "print(\"\\nMatriz de confusão detalhada:\\n\", pd.crosstab(y_test, predictions, rownames=['Real'], colnames=['Predito'], margins=True, margins_name='Todos'))\n",
    "\n",
    "print(\"Relatório sobre a qualidade:\\n\")\n",
    "print(metrics.classification_report(y_test, predictions))"
   ]
  },
  {
   "cell_type": "code",
   "execution_count": null,
   "metadata": {},
   "outputs": [],
   "source": [
    "# Regressão Linear\n",
    "\n",
    "df.drop('Location',axis=1,inplace=True)\n",
    "df.drop('Region',axis=1,inplace=True)\n",
    "df.drop('Subregion',axis=1,inplace=True)\n",
    "\n",
    "normalized_df=(df-df.min())/(df.max()-df.min())\n",
    "\n",
    "x = df[['Rate', 'Count', 'Year']]\n",
    "y = df['Count'] \n",
    "print(x.head())\n",
    "print(y.head())\n",
    "\n",
    "X_train, X_test, y_train, y_test = train_test_split(x, y, test_size=0.3, random_state=50)\n",
    "\n",
    "# Aqui criamos o modelo preditor \n",
    "modelopreditor = LinearRegression() \n",
    "#Aqui ocorre o aprendizado \n",
    "modelopreditor.fit(X_train,y_train) \n",
    "#Imprimindo os coeficientes com os nomes das colunas \n",
    "coeff = pd.DataFrame(modelopreditor.coef_,x.columns,columns=['Coeficiente'])\n",
    "print(coeff)"
   ]
  },
  {
   "cell_type": "code",
   "execution_count": null,
   "metadata": {},
   "outputs": [],
   "source": [
    "# KNN"
   ]
  },
  {
   "cell_type": "code",
   "execution_count": null,
   "metadata": {},
   "outputs": [],
   "source": [
    "# Naive Bayes"
   ]
  }
 ],
 "metadata": {
  "language_info": {
   "name": "python"
  },
  "orig_nbformat": 4
 },
 "nbformat": 4,
 "nbformat_minor": 2
}
